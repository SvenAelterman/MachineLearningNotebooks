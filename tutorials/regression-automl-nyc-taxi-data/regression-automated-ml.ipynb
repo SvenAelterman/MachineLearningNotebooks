{
  "cells": [
    {
      "cell_type": "markdown",
      "metadata": {},
      "source": [
        "Copyright (c) Microsoft Corporation. All rights reserved."
      ]
    },
    {
      "cell_type": "markdown",
      "metadata": {},
      "source": [
        "![Impressions](https://PixelServer20190423114238.azurewebsites.net/api/impressions/MachineLearningNotebooks/tutorials/regression-part2-automated-ml.png)"
      ]
    },
    {
      "cell_type": "markdown",
      "metadata": {},
      "source": [
        "# Tutorial: Use automated machine learning to predict taxi fares"
      ]
    },
    {
      "cell_type": "markdown",
      "metadata": {},
      "source": [
        "In this tutorial, you use automated machine learning in Azure Machine Learning service to create a regression model to predict NYC taxi fare prices. This process accepts training data and configuration settings, and automatically iterates through combinations of different feature normalization/standardization methods, models, and hyperparameter settings to arrive at the best model.\n",
        "\n",
        "In this tutorial you learn the following tasks:\n",
        "\n",
        "* Download, transform, and clean data using Azure Open Datasets\n",
        "* Train an automated machine learning regression model\n",
        "* Calculate model accuracy\n",
        "\n",
        "If you donâ€™t have an Azure subscription, create a free account before you begin. Try the [free or paid version](https://aka.ms/AMLFree) of Azure Machine Learning service today."
      ]
    },
    {
      "cell_type": "markdown",
      "metadata": {},
      "source": [
        "## Prerequisites"
      ]
    },
    {
      "cell_type": "markdown",
      "metadata": {},
      "source": [
        "* Complete the [setup tutorial](https://docs.microsoft.com/azure/machine-learning/service/tutorial-1st-experiment-sdk-setup) if you don't already have an Azure Machine Learning service workspace or notebook virtual machine.\n",
        "* After you complete the setup tutorial, open the **tutorials/regression-automated-ml.ipynb** notebook using the same notebook server.\n",
        "\n",
        "This tutorial is also available on [GitHub](https://github.com/Azure/MachineLearningNotebooks/tree/master/tutorials) if you wish to run it in your own [local environment](https://github.com/Azure/MachineLearningNotebooks/blob/master/how-to-use-azureml/automated-machine-learning/README.md#setup-using-a-local-conda-environment)."
      ]
    },
    {
      "cell_type": "markdown",
      "metadata": {},
      "source": [
        "## Download and prepare data"
      ]
    },
    {
      "cell_type": "code",
      "execution_count": 1,
      "metadata": {},
      "outputs": [],
      "source": [
        "import pandas as pd\n",
        "from azureml.core import Dataset\n",
        "from datetime import datetime\n",
        "from dateutil.relativedelta import relativedelta"
      ]
    },
    {
      "cell_type": "markdown",
      "metadata": {},
      "source": [
        "Begin by creating a dataframe to hold the taxi data. Then preview the data."
      ]
    },
    {
      "cell_type": "code",
      "execution_count": 2,
      "metadata": {},
      "outputs": [
        {
          "data": {
            "text/html": [
              "<div>\n",
              "<style scoped>\n",
              "    .dataframe tbody tr th:only-of-type {\n",
              "        vertical-align: middle;\n",
              "    }\n",
              "\n",
              "    .dataframe tbody tr th {\n",
              "        vertical-align: top;\n",
              "    }\n",
              "\n",
              "    .dataframe thead th {\n",
              "        text-align: right;\n",
              "    }\n",
              "</style>\n",
              "<table border=\"1\" class=\"dataframe\">\n",
              "  <thead>\n",
              "    <tr style=\"text-align: right;\">\n",
              "      <th></th>\n",
              "      <th>vendorID</th>\n",
              "      <th>lpepPickupDatetime</th>\n",
              "      <th>lpepDropoffDatetime</th>\n",
              "      <th>passengerCount</th>\n",
              "      <th>tripDistance</th>\n",
              "      <th>puLocationId</th>\n",
              "      <th>doLocationId</th>\n",
              "      <th>pickupLongitude</th>\n",
              "      <th>pickupLatitude</th>\n",
              "      <th>dropoffLongitude</th>\n",
              "      <th>...</th>\n",
              "      <th>fareAmount</th>\n",
              "      <th>extra</th>\n",
              "      <th>mtaTax</th>\n",
              "      <th>improvementSurcharge</th>\n",
              "      <th>tipAmount</th>\n",
              "      <th>tollsAmount</th>\n",
              "      <th>ehailFee</th>\n",
              "      <th>totalAmount</th>\n",
              "      <th>tripType</th>\n",
              "      <th>__index_level_0__</th>\n",
              "    </tr>\n",
              "  </thead>\n",
              "  <tbody>\n",
              "    <tr>\n",
              "      <th>0</th>\n",
              "      <td>2</td>\n",
              "      <td>2015-01-30 18:38:09</td>\n",
              "      <td>2015-01-30 19:01:49</td>\n",
              "      <td>1</td>\n",
              "      <td>1.88</td>\n",
              "      <td>None</td>\n",
              "      <td>None</td>\n",
              "      <td>-73.996155</td>\n",
              "      <td>40.690903</td>\n",
              "      <td>-73.964287</td>\n",
              "      <td>...</td>\n",
              "      <td>15.0</td>\n",
              "      <td>1.0</td>\n",
              "      <td>0.5</td>\n",
              "      <td>0.3</td>\n",
              "      <td>4.00</td>\n",
              "      <td>0.0</td>\n",
              "      <td>None</td>\n",
              "      <td>20.80</td>\n",
              "      <td>1.0</td>\n",
              "      <td>2015-01-30 18:38:09</td>\n",
              "    </tr>\n",
              "    <tr>\n",
              "      <th>1</th>\n",
              "      <td>1</td>\n",
              "      <td>2015-01-17 23:21:39</td>\n",
              "      <td>2015-01-17 23:35:16</td>\n",
              "      <td>1</td>\n",
              "      <td>2.70</td>\n",
              "      <td>None</td>\n",
              "      <td>None</td>\n",
              "      <td>-73.978508</td>\n",
              "      <td>40.687984</td>\n",
              "      <td>-73.955116</td>\n",
              "      <td>...</td>\n",
              "      <td>11.5</td>\n",
              "      <td>0.5</td>\n",
              "      <td>0.5</td>\n",
              "      <td>0.3</td>\n",
              "      <td>2.55</td>\n",
              "      <td>0.0</td>\n",
              "      <td>None</td>\n",
              "      <td>15.35</td>\n",
              "      <td>1.0</td>\n",
              "      <td>2015-01-17 23:21:39</td>\n",
              "    </tr>\n",
              "    <tr>\n",
              "      <th>2</th>\n",
              "      <td>2</td>\n",
              "      <td>2015-01-16 01:38:40</td>\n",
              "      <td>2015-01-16 01:52:55</td>\n",
              "      <td>1</td>\n",
              "      <td>3.54</td>\n",
              "      <td>None</td>\n",
              "      <td>None</td>\n",
              "      <td>-73.957787</td>\n",
              "      <td>40.721779</td>\n",
              "      <td>-73.963005</td>\n",
              "      <td>...</td>\n",
              "      <td>13.5</td>\n",
              "      <td>0.5</td>\n",
              "      <td>0.5</td>\n",
              "      <td>0.3</td>\n",
              "      <td>2.80</td>\n",
              "      <td>0.0</td>\n",
              "      <td>None</td>\n",
              "      <td>17.60</td>\n",
              "      <td>1.0</td>\n",
              "      <td>2015-01-16 01:38:40</td>\n",
              "    </tr>\n",
              "    <tr>\n",
              "      <th>3</th>\n",
              "      <td>2</td>\n",
              "      <td>2015-01-04 17:09:26</td>\n",
              "      <td>2015-01-04 17:16:12</td>\n",
              "      <td>1</td>\n",
              "      <td>1.00</td>\n",
              "      <td>None</td>\n",
              "      <td>None</td>\n",
              "      <td>-73.919914</td>\n",
              "      <td>40.826023</td>\n",
              "      <td>-73.904839</td>\n",
              "      <td>...</td>\n",
              "      <td>6.5</td>\n",
              "      <td>0.0</td>\n",
              "      <td>0.5</td>\n",
              "      <td>0.3</td>\n",
              "      <td>0.00</td>\n",
              "      <td>0.0</td>\n",
              "      <td>None</td>\n",
              "      <td>7.30</td>\n",
              "      <td>1.0</td>\n",
              "      <td>2015-01-04 17:09:26</td>\n",
              "    </tr>\n",
              "    <tr>\n",
              "      <th>4</th>\n",
              "      <td>1</td>\n",
              "      <td>2015-01-14 10:10:57</td>\n",
              "      <td>2015-01-14 10:33:30</td>\n",
              "      <td>1</td>\n",
              "      <td>5.10</td>\n",
              "      <td>None</td>\n",
              "      <td>None</td>\n",
              "      <td>-73.943710</td>\n",
              "      <td>40.825439</td>\n",
              "      <td>-73.982964</td>\n",
              "      <td>...</td>\n",
              "      <td>18.5</td>\n",
              "      <td>0.0</td>\n",
              "      <td>0.5</td>\n",
              "      <td>0.3</td>\n",
              "      <td>3.85</td>\n",
              "      <td>0.0</td>\n",
              "      <td>None</td>\n",
              "      <td>23.15</td>\n",
              "      <td>1.0</td>\n",
              "      <td>2015-01-14 10:10:57</td>\n",
              "    </tr>\n",
              "    <tr>\n",
              "      <th>5</th>\n",
              "      <td>2</td>\n",
              "      <td>2015-01-19 18:10:41</td>\n",
              "      <td>2015-01-19 18:32:20</td>\n",
              "      <td>1</td>\n",
              "      <td>7.41</td>\n",
              "      <td>None</td>\n",
              "      <td>None</td>\n",
              "      <td>-73.940918</td>\n",
              "      <td>40.839714</td>\n",
              "      <td>-73.994339</td>\n",
              "      <td>...</td>\n",
              "      <td>24.0</td>\n",
              "      <td>0.0</td>\n",
              "      <td>0.5</td>\n",
              "      <td>0.3</td>\n",
              "      <td>4.80</td>\n",
              "      <td>0.0</td>\n",
              "      <td>None</td>\n",
              "      <td>29.60</td>\n",
              "      <td>1.0</td>\n",
              "      <td>2015-01-19 18:10:41</td>\n",
              "    </tr>\n",
              "    <tr>\n",
              "      <th>6</th>\n",
              "      <td>2</td>\n",
              "      <td>2015-01-01 15:44:21</td>\n",
              "      <td>2015-01-01 15:50:16</td>\n",
              "      <td>1</td>\n",
              "      <td>1.03</td>\n",
              "      <td>None</td>\n",
              "      <td>None</td>\n",
              "      <td>-73.985718</td>\n",
              "      <td>40.685646</td>\n",
              "      <td>-73.996773</td>\n",
              "      <td>...</td>\n",
              "      <td>6.5</td>\n",
              "      <td>0.0</td>\n",
              "      <td>0.5</td>\n",
              "      <td>0.3</td>\n",
              "      <td>1.30</td>\n",
              "      <td>0.0</td>\n",
              "      <td>None</td>\n",
              "      <td>8.60</td>\n",
              "      <td>1.0</td>\n",
              "      <td>2015-01-01 15:44:21</td>\n",
              "    </tr>\n",
              "    <tr>\n",
              "      <th>7</th>\n",
              "      <td>2</td>\n",
              "      <td>2015-01-12 08:01:21</td>\n",
              "      <td>2015-01-12 08:14:52</td>\n",
              "      <td>5</td>\n",
              "      <td>2.94</td>\n",
              "      <td>None</td>\n",
              "      <td>None</td>\n",
              "      <td>-73.939865</td>\n",
              "      <td>40.789822</td>\n",
              "      <td>-73.952957</td>\n",
              "      <td>...</td>\n",
              "      <td>12.5</td>\n",
              "      <td>0.0</td>\n",
              "      <td>0.5</td>\n",
              "      <td>0.3</td>\n",
              "      <td>0.00</td>\n",
              "      <td>0.0</td>\n",
              "      <td>None</td>\n",
              "      <td>13.30</td>\n",
              "      <td>1.0</td>\n",
              "      <td>2015-01-12 08:01:21</td>\n",
              "    </tr>\n",
              "    <tr>\n",
              "      <th>8</th>\n",
              "      <td>1</td>\n",
              "      <td>2015-01-16 21:54:26</td>\n",
              "      <td>2015-01-16 22:12:39</td>\n",
              "      <td>1</td>\n",
              "      <td>3.00</td>\n",
              "      <td>None</td>\n",
              "      <td>None</td>\n",
              "      <td>-73.957939</td>\n",
              "      <td>40.721928</td>\n",
              "      <td>-73.926247</td>\n",
              "      <td>...</td>\n",
              "      <td>14.0</td>\n",
              "      <td>0.5</td>\n",
              "      <td>0.5</td>\n",
              "      <td>0.3</td>\n",
              "      <td>2.00</td>\n",
              "      <td>0.0</td>\n",
              "      <td>None</td>\n",
              "      <td>17.30</td>\n",
              "      <td>1.0</td>\n",
              "      <td>2015-01-16 21:54:26</td>\n",
              "    </tr>\n",
              "    <tr>\n",
              "      <th>9</th>\n",
              "      <td>2</td>\n",
              "      <td>2015-01-06 06:34:53</td>\n",
              "      <td>2015-01-06 06:44:23</td>\n",
              "      <td>1</td>\n",
              "      <td>2.31</td>\n",
              "      <td>None</td>\n",
              "      <td>None</td>\n",
              "      <td>-73.943825</td>\n",
              "      <td>40.810257</td>\n",
              "      <td>-73.943062</td>\n",
              "      <td>...</td>\n",
              "      <td>10.0</td>\n",
              "      <td>0.0</td>\n",
              "      <td>0.5</td>\n",
              "      <td>0.3</td>\n",
              "      <td>2.00</td>\n",
              "      <td>0.0</td>\n",
              "      <td>None</td>\n",
              "      <td>12.80</td>\n",
              "      <td>1.0</td>\n",
              "      <td>2015-01-06 06:34:53</td>\n",
              "    </tr>\n",
              "  </tbody>\n",
              "</table>\n",
              "<p>10 rows × 24 columns</p>\n",
              "</div>"
            ],
            "text/plain": [
              "   vendorID  lpepPickupDatetime lpepDropoffDatetime  passengerCount  \\\n",
              "0         2 2015-01-30 18:38:09 2015-01-30 19:01:49               1   \n",
              "1         1 2015-01-17 23:21:39 2015-01-17 23:35:16               1   \n",
              "2         2 2015-01-16 01:38:40 2015-01-16 01:52:55               1   \n",
              "3         2 2015-01-04 17:09:26 2015-01-04 17:16:12               1   \n",
              "4         1 2015-01-14 10:10:57 2015-01-14 10:33:30               1   \n",
              "5         2 2015-01-19 18:10:41 2015-01-19 18:32:20               1   \n",
              "6         2 2015-01-01 15:44:21 2015-01-01 15:50:16               1   \n",
              "7         2 2015-01-12 08:01:21 2015-01-12 08:14:52               5   \n",
              "8         1 2015-01-16 21:54:26 2015-01-16 22:12:39               1   \n",
              "9         2 2015-01-06 06:34:53 2015-01-06 06:44:23               1   \n",
              "\n",
              "   tripDistance puLocationId doLocationId  pickupLongitude  pickupLatitude  \\\n",
              "0          1.88         None         None       -73.996155       40.690903   \n",
              "1          2.70         None         None       -73.978508       40.687984   \n",
              "2          3.54         None         None       -73.957787       40.721779   \n",
              "3          1.00         None         None       -73.919914       40.826023   \n",
              "4          5.10         None         None       -73.943710       40.825439   \n",
              "5          7.41         None         None       -73.940918       40.839714   \n",
              "6          1.03         None         None       -73.985718       40.685646   \n",
              "7          2.94         None         None       -73.939865       40.789822   \n",
              "8          3.00         None         None       -73.957939       40.721928   \n",
              "9          2.31         None         None       -73.943825       40.810257   \n",
              "\n",
              "   dropoffLongitude  ...  fareAmount  extra mtaTax  improvementSurcharge  \\\n",
              "0        -73.964287  ...        15.0    1.0    0.5                   0.3   \n",
              "1        -73.955116  ...        11.5    0.5    0.5                   0.3   \n",
              "2        -73.963005  ...        13.5    0.5    0.5                   0.3   \n",
              "3        -73.904839  ...         6.5    0.0    0.5                   0.3   \n",
              "4        -73.982964  ...        18.5    0.0    0.5                   0.3   \n",
              "5        -73.994339  ...        24.0    0.0    0.5                   0.3   \n",
              "6        -73.996773  ...         6.5    0.0    0.5                   0.3   \n",
              "7        -73.952957  ...        12.5    0.0    0.5                   0.3   \n",
              "8        -73.926247  ...        14.0    0.5    0.5                   0.3   \n",
              "9        -73.943062  ...        10.0    0.0    0.5                   0.3   \n",
              "\n",
              "   tipAmount  tollsAmount  ehailFee totalAmount  tripType   __index_level_0__  \n",
              "0       4.00          0.0      None       20.80       1.0 2015-01-30 18:38:09  \n",
              "1       2.55          0.0      None       15.35       1.0 2015-01-17 23:21:39  \n",
              "2       2.80          0.0      None       17.60       1.0 2015-01-16 01:38:40  \n",
              "3       0.00          0.0      None        7.30       1.0 2015-01-04 17:09:26  \n",
              "4       3.85          0.0      None       23.15       1.0 2015-01-14 10:10:57  \n",
              "5       4.80          0.0      None       29.60       1.0 2015-01-19 18:10:41  \n",
              "6       1.30          0.0      None        8.60       1.0 2015-01-01 15:44:21  \n",
              "7       0.00          0.0      None       13.30       1.0 2015-01-12 08:01:21  \n",
              "8       2.00          0.0      None       17.30       1.0 2015-01-16 21:54:26  \n",
              "9       2.00          0.0      None       12.80       1.0 2015-01-06 06:34:53  \n",
              "\n",
              "[10 rows x 24 columns]"
            ]
          },
          "execution_count": 2,
          "metadata": {},
          "output_type": "execute_result"
        }
      ],
      "source": [
        "green_taxi_dataset = Dataset.Tabular.from_parquet_files(path=\"https://automlsamplenotebookdata.blob.core.windows.net/automl-sample-notebook-data/green_taxi_data.parquet\")\n",
        "green_taxi_df = green_taxi_dataset.to_pandas_dataframe()\n",
        "green_taxi_df.head(10)"
      ]
    },
    {
      "cell_type": "markdown",
      "metadata": {},
      "source": [
        "Remove some of the columns that you won't need for training or additional feature building.  Automate machine learning will automatically handle time-based features such as lpepPickupDatetime."
      ]
    },
    {
      "cell_type": "code",
      "execution_count": 3,
      "metadata": {},
      "outputs": [
        {
          "data": {
            "text/html": [
              "<div>\n",
              "<style scoped>\n",
              "    .dataframe tbody tr th:only-of-type {\n",
              "        vertical-align: middle;\n",
              "    }\n",
              "\n",
              "    .dataframe tbody tr th {\n",
              "        vertical-align: top;\n",
              "    }\n",
              "\n",
              "    .dataframe thead th {\n",
              "        text-align: right;\n",
              "    }\n",
              "</style>\n",
              "<table border=\"1\" class=\"dataframe\">\n",
              "  <thead>\n",
              "    <tr style=\"text-align: right;\">\n",
              "      <th></th>\n",
              "      <th>vendorID</th>\n",
              "      <th>lpepPickupDatetime</th>\n",
              "      <th>passengerCount</th>\n",
              "      <th>tripDistance</th>\n",
              "      <th>pickupLongitude</th>\n",
              "      <th>pickupLatitude</th>\n",
              "      <th>dropoffLongitude</th>\n",
              "      <th>dropoffLatitude</th>\n",
              "      <th>totalAmount</th>\n",
              "      <th>__index_level_0__</th>\n",
              "    </tr>\n",
              "  </thead>\n",
              "  <tbody>\n",
              "    <tr>\n",
              "      <th>0</th>\n",
              "      <td>2</td>\n",
              "      <td>2015-01-30 18:38:09</td>\n",
              "      <td>1</td>\n",
              "      <td>1.88</td>\n",
              "      <td>-73.996155</td>\n",
              "      <td>40.690903</td>\n",
              "      <td>-73.964287</td>\n",
              "      <td>40.679707</td>\n",
              "      <td>20.80</td>\n",
              "      <td>2015-01-30 18:38:09</td>\n",
              "    </tr>\n",
              "    <tr>\n",
              "      <th>1</th>\n",
              "      <td>1</td>\n",
              "      <td>2015-01-17 23:21:39</td>\n",
              "      <td>1</td>\n",
              "      <td>2.70</td>\n",
              "      <td>-73.978508</td>\n",
              "      <td>40.687984</td>\n",
              "      <td>-73.955116</td>\n",
              "      <td>40.708138</td>\n",
              "      <td>15.35</td>\n",
              "      <td>2015-01-17 23:21:39</td>\n",
              "    </tr>\n",
              "    <tr>\n",
              "      <th>2</th>\n",
              "      <td>2</td>\n",
              "      <td>2015-01-16 01:38:40</td>\n",
              "      <td>1</td>\n",
              "      <td>3.54</td>\n",
              "      <td>-73.957787</td>\n",
              "      <td>40.721779</td>\n",
              "      <td>-73.963005</td>\n",
              "      <td>40.682774</td>\n",
              "      <td>17.60</td>\n",
              "      <td>2015-01-16 01:38:40</td>\n",
              "    </tr>\n",
              "    <tr>\n",
              "      <th>3</th>\n",
              "      <td>2</td>\n",
              "      <td>2015-01-04 17:09:26</td>\n",
              "      <td>1</td>\n",
              "      <td>1.00</td>\n",
              "      <td>-73.919914</td>\n",
              "      <td>40.826023</td>\n",
              "      <td>-73.904839</td>\n",
              "      <td>40.821404</td>\n",
              "      <td>7.30</td>\n",
              "      <td>2015-01-04 17:09:26</td>\n",
              "    </tr>\n",
              "    <tr>\n",
              "      <th>4</th>\n",
              "      <td>1</td>\n",
              "      <td>2015-01-14 10:10:57</td>\n",
              "      <td>1</td>\n",
              "      <td>5.10</td>\n",
              "      <td>-73.943710</td>\n",
              "      <td>40.825439</td>\n",
              "      <td>-73.982964</td>\n",
              "      <td>40.767857</td>\n",
              "      <td>23.15</td>\n",
              "      <td>2015-01-14 10:10:57</td>\n",
              "    </tr>\n",
              "  </tbody>\n",
              "</table>\n",
              "</div>"
            ],
            "text/plain": [
              "   vendorID  lpepPickupDatetime  passengerCount  tripDistance  \\\n",
              "0         2 2015-01-30 18:38:09               1          1.88   \n",
              "1         1 2015-01-17 23:21:39               1          2.70   \n",
              "2         2 2015-01-16 01:38:40               1          3.54   \n",
              "3         2 2015-01-04 17:09:26               1          1.00   \n",
              "4         1 2015-01-14 10:10:57               1          5.10   \n",
              "\n",
              "   pickupLongitude  pickupLatitude  dropoffLongitude  dropoffLatitude  \\\n",
              "0       -73.996155       40.690903        -73.964287        40.679707   \n",
              "1       -73.978508       40.687984        -73.955116        40.708138   \n",
              "2       -73.957787       40.721779        -73.963005        40.682774   \n",
              "3       -73.919914       40.826023        -73.904839        40.821404   \n",
              "4       -73.943710       40.825439        -73.982964        40.767857   \n",
              "\n",
              "   totalAmount   __index_level_0__  \n",
              "0        20.80 2015-01-30 18:38:09  \n",
              "1        15.35 2015-01-17 23:21:39  \n",
              "2        17.60 2015-01-16 01:38:40  \n",
              "3         7.30 2015-01-04 17:09:26  \n",
              "4        23.15 2015-01-14 10:10:57  "
            ]
          },
          "execution_count": 3,
          "metadata": {},
          "output_type": "execute_result"
        }
      ],
      "source": [
        "columns_to_remove = [\"lpepDropoffDatetime\", \"puLocationId\", \"doLocationId\", \"extra\", \"mtaTax\",\n",
        "                     \"improvementSurcharge\", \"tollsAmount\", \"ehailFee\", \"tripType\", \"rateCodeID\", \n",
        "                     \"storeAndFwdFlag\", \"paymentType\", \"fareAmount\", \"tipAmount\"\n",
        "                    ]\n",
        "for col in columns_to_remove:\n",
        "    green_taxi_df.pop(col)\n",
        "    \n",
        "green_taxi_df.head(5)"
      ]
    },
    {
      "cell_type": "markdown",
      "metadata": {},
      "source": [
        "### Cleanse data "
      ]
    },
    {
      "cell_type": "markdown",
      "metadata": {},
      "source": [
        "Run the `describe()` function on the new dataframe to see summary statistics for each field."
      ]
    },
    {
      "cell_type": "code",
      "execution_count": 4,
      "metadata": {},
      "outputs": [
        {
          "data": {
            "text/html": [
              "<div>\n",
              "<style scoped>\n",
              "    .dataframe tbody tr th:only-of-type {\n",
              "        vertical-align: middle;\n",
              "    }\n",
              "\n",
              "    .dataframe tbody tr th {\n",
              "        vertical-align: top;\n",
              "    }\n",
              "\n",
              "    .dataframe thead th {\n",
              "        text-align: right;\n",
              "    }\n",
              "</style>\n",
              "<table border=\"1\" class=\"dataframe\">\n",
              "  <thead>\n",
              "    <tr style=\"text-align: right;\">\n",
              "      <th></th>\n",
              "      <th>vendorID</th>\n",
              "      <th>passengerCount</th>\n",
              "      <th>tripDistance</th>\n",
              "      <th>pickupLongitude</th>\n",
              "      <th>pickupLatitude</th>\n",
              "      <th>dropoffLongitude</th>\n",
              "      <th>dropoffLatitude</th>\n",
              "      <th>totalAmount</th>\n",
              "    </tr>\n",
              "  </thead>\n",
              "  <tbody>\n",
              "    <tr>\n",
              "      <th>count</th>\n",
              "      <td>24000.000000</td>\n",
              "      <td>24000.000000</td>\n",
              "      <td>24000.000000</td>\n",
              "      <td>24000.000000</td>\n",
              "      <td>24000.000000</td>\n",
              "      <td>24000.000000</td>\n",
              "      <td>24000.000000</td>\n",
              "      <td>24000.000000</td>\n",
              "    </tr>\n",
              "    <tr>\n",
              "      <th>mean</th>\n",
              "      <td>1.777625</td>\n",
              "      <td>1.373625</td>\n",
              "      <td>2.893981</td>\n",
              "      <td>-73.827403</td>\n",
              "      <td>40.689730</td>\n",
              "      <td>-73.819670</td>\n",
              "      <td>40.684436</td>\n",
              "      <td>14.892744</td>\n",
              "    </tr>\n",
              "    <tr>\n",
              "      <th>std</th>\n",
              "      <td>0.415850</td>\n",
              "      <td>1.046180</td>\n",
              "      <td>3.072343</td>\n",
              "      <td>2.821767</td>\n",
              "      <td>1.556082</td>\n",
              "      <td>2.901199</td>\n",
              "      <td>1.599776</td>\n",
              "      <td>12.339749</td>\n",
              "    </tr>\n",
              "    <tr>\n",
              "      <th>min</th>\n",
              "      <td>1.000000</td>\n",
              "      <td>0.000000</td>\n",
              "      <td>0.000000</td>\n",
              "      <td>-74.357101</td>\n",
              "      <td>0.000000</td>\n",
              "      <td>-74.342766</td>\n",
              "      <td>0.000000</td>\n",
              "      <td>-120.800000</td>\n",
              "    </tr>\n",
              "    <tr>\n",
              "      <th>25%</th>\n",
              "      <td>2.000000</td>\n",
              "      <td>1.000000</td>\n",
              "      <td>1.050000</td>\n",
              "      <td>-73.959175</td>\n",
              "      <td>40.699127</td>\n",
              "      <td>-73.966476</td>\n",
              "      <td>40.699459</td>\n",
              "      <td>8.000000</td>\n",
              "    </tr>\n",
              "    <tr>\n",
              "      <th>50%</th>\n",
              "      <td>2.000000</td>\n",
              "      <td>1.000000</td>\n",
              "      <td>1.930000</td>\n",
              "      <td>-73.945049</td>\n",
              "      <td>40.746754</td>\n",
              "      <td>-73.944221</td>\n",
              "      <td>40.747536</td>\n",
              "      <td>11.300000</td>\n",
              "    </tr>\n",
              "    <tr>\n",
              "      <th>75%</th>\n",
              "      <td>2.000000</td>\n",
              "      <td>1.000000</td>\n",
              "      <td>3.700000</td>\n",
              "      <td>-73.917089</td>\n",
              "      <td>40.803060</td>\n",
              "      <td>-73.909061</td>\n",
              "      <td>40.791526</td>\n",
              "      <td>17.800000</td>\n",
              "    </tr>\n",
              "    <tr>\n",
              "      <th>max</th>\n",
              "      <td>2.000000</td>\n",
              "      <td>8.000000</td>\n",
              "      <td>154.280000</td>\n",
              "      <td>0.000000</td>\n",
              "      <td>41.109089</td>\n",
              "      <td>0.000000</td>\n",
              "      <td>40.982826</td>\n",
              "      <td>425.000000</td>\n",
              "    </tr>\n",
              "  </tbody>\n",
              "</table>\n",
              "</div>"
            ],
            "text/plain": [
              "           vendorID  passengerCount  tripDistance  pickupLongitude  \\\n",
              "count  24000.000000    24000.000000  24000.000000     24000.000000   \n",
              "mean       1.777625        1.373625      2.893981       -73.827403   \n",
              "std        0.415850        1.046180      3.072343         2.821767   \n",
              "min        1.000000        0.000000      0.000000       -74.357101   \n",
              "25%        2.000000        1.000000      1.050000       -73.959175   \n",
              "50%        2.000000        1.000000      1.930000       -73.945049   \n",
              "75%        2.000000        1.000000      3.700000       -73.917089   \n",
              "max        2.000000        8.000000    154.280000         0.000000   \n",
              "\n",
              "       pickupLatitude  dropoffLongitude  dropoffLatitude   totalAmount  \n",
              "count    24000.000000      24000.000000     24000.000000  24000.000000  \n",
              "mean        40.689730        -73.819670        40.684436     14.892744  \n",
              "std          1.556082          2.901199         1.599776     12.339749  \n",
              "min          0.000000        -74.342766         0.000000   -120.800000  \n",
              "25%         40.699127        -73.966476        40.699459      8.000000  \n",
              "50%         40.746754        -73.944221        40.747536     11.300000  \n",
              "75%         40.803060        -73.909061        40.791526     17.800000  \n",
              "max         41.109089          0.000000        40.982826    425.000000  "
            ]
          },
          "execution_count": 4,
          "metadata": {},
          "output_type": "execute_result"
        }
      ],
      "source": [
        "green_taxi_df.describe()"
      ]
    },
    {
      "cell_type": "markdown",
      "metadata": {},
      "source": [
        "From the summary statistics, you see that there are several fields that have outliers or values that will reduce model accuracy. First filter the lat/long fields to be within the bounds of the Manhattan area. This will filter out longer taxi trips or trips that are outliers in respect to their relationship with other features. \n",
        "\n",
        "Additionally filter the `tripDistance` field to be greater than zero but less than 31 miles (the haversine distance between the two lat/long pairs). This eliminates long outlier trips that have inconsistent trip cost.\n",
        "\n",
        "Lastly, the `totalAmount` field has negative values for the taxi fares, which don't make sense in the context of our model, and the `passengerCount` field has bad data with the minimum values being zero.\n",
        "\n",
        "Filter out these anomalies using query functions, and then remove the last few columns unnecessary for training."
      ]
    },
    {
      "cell_type": "code",
      "execution_count": 5,
      "metadata": {},
      "outputs": [],
      "source": [
        "final_df = green_taxi_df.query(\"pickupLatitude>=40.53 and pickupLatitude<=40.88\")\n",
        "final_df = final_df.query(\"pickupLongitude>=-74.09 and pickupLongitude<=-73.72\")\n",
        "final_df = final_df.query(\"tripDistance>=0.25 and tripDistance<31\")\n",
        "final_df = final_df.query(\"passengerCount>0 and totalAmount>0\")\n",
        "\n",
        "columns_to_remove_for_training = [\"pickupLongitude\", \"pickupLatitude\", \"dropoffLongitude\", \"dropoffLatitude\"]\n",
        "for col in columns_to_remove_for_training:\n",
        "    final_df.pop(col)"
      ]
    },
    {
      "cell_type": "markdown",
      "metadata": {},
      "source": [
        "Call `describe()` again on the data to ensure cleansing worked as expected. You now have a prepared and cleansed set of taxi, holiday, and weather data to use for machine learning model training."
      ]
    },
    {
      "cell_type": "code",
      "execution_count": 6,
      "metadata": {},
      "outputs": [
        {
          "data": {
            "text/html": [
              "<div>\n",
              "<style scoped>\n",
              "    .dataframe tbody tr th:only-of-type {\n",
              "        vertical-align: middle;\n",
              "    }\n",
              "\n",
              "    .dataframe tbody tr th {\n",
              "        vertical-align: top;\n",
              "    }\n",
              "\n",
              "    .dataframe thead th {\n",
              "        text-align: right;\n",
              "    }\n",
              "</style>\n",
              "<table border=\"1\" class=\"dataframe\">\n",
              "  <thead>\n",
              "    <tr style=\"text-align: right;\">\n",
              "      <th></th>\n",
              "      <th>vendorID</th>\n",
              "      <th>passengerCount</th>\n",
              "      <th>tripDistance</th>\n",
              "      <th>totalAmount</th>\n",
              "    </tr>\n",
              "  </thead>\n",
              "  <tbody>\n",
              "    <tr>\n",
              "      <th>count</th>\n",
              "      <td>23222.000000</td>\n",
              "      <td>23222.000000</td>\n",
              "      <td>23222.000000</td>\n",
              "      <td>23222.000000</td>\n",
              "    </tr>\n",
              "    <tr>\n",
              "      <th>mean</th>\n",
              "      <td>1.778572</td>\n",
              "      <td>1.374688</td>\n",
              "      <td>2.956753</td>\n",
              "      <td>14.838994</td>\n",
              "    </tr>\n",
              "    <tr>\n",
              "      <th>std</th>\n",
              "      <td>0.415217</td>\n",
              "      <td>1.046995</td>\n",
              "      <td>2.862415</td>\n",
              "      <td>10.363600</td>\n",
              "    </tr>\n",
              "    <tr>\n",
              "      <th>min</th>\n",
              "      <td>1.000000</td>\n",
              "      <td>1.000000</td>\n",
              "      <td>0.250000</td>\n",
              "      <td>0.010000</td>\n",
              "    </tr>\n",
              "    <tr>\n",
              "      <th>25%</th>\n",
              "      <td>2.000000</td>\n",
              "      <td>1.000000</td>\n",
              "      <td>1.100000</td>\n",
              "      <td>8.190000</td>\n",
              "    </tr>\n",
              "    <tr>\n",
              "      <th>50%</th>\n",
              "      <td>2.000000</td>\n",
              "      <td>1.000000</td>\n",
              "      <td>2.000000</td>\n",
              "      <td>11.750000</td>\n",
              "    </tr>\n",
              "    <tr>\n",
              "      <th>75%</th>\n",
              "      <td>2.000000</td>\n",
              "      <td>1.000000</td>\n",
              "      <td>3.760000</td>\n",
              "      <td>17.880000</td>\n",
              "    </tr>\n",
              "    <tr>\n",
              "      <th>max</th>\n",
              "      <td>2.000000</td>\n",
              "      <td>8.000000</td>\n",
              "      <td>30.840000</td>\n",
              "      <td>191.700000</td>\n",
              "    </tr>\n",
              "  </tbody>\n",
              "</table>\n",
              "</div>"
            ],
            "text/plain": [
              "           vendorID  passengerCount  tripDistance   totalAmount\n",
              "count  23222.000000    23222.000000  23222.000000  23222.000000\n",
              "mean       1.778572        1.374688      2.956753     14.838994\n",
              "std        0.415217        1.046995      2.862415     10.363600\n",
              "min        1.000000        1.000000      0.250000      0.010000\n",
              "25%        2.000000        1.000000      1.100000      8.190000\n",
              "50%        2.000000        1.000000      2.000000     11.750000\n",
              "75%        2.000000        1.000000      3.760000     17.880000\n",
              "max        2.000000        8.000000     30.840000    191.700000"
            ]
          },
          "execution_count": 6,
          "metadata": {},
          "output_type": "execute_result"
        }
      ],
      "source": [
        "final_df.describe()"
      ]
    },
    {
      "cell_type": "markdown",
      "metadata": {},
      "source": [
        "## Configure workspace\n"
      ]
    },
    {
      "cell_type": "markdown",
      "metadata": {},
      "source": [
        "Create a workspace object from the existing workspace. A [Workspace](https://docs.microsoft.com/python/api/azureml-core/azureml.core.workspace.workspace?view=azure-ml-py) is a class that accepts your Azure subscription and resource information. It also creates a cloud resource to monitor and track your model runs. `Workspace.from_config()` reads the file **config.json** and loads the authentication details into an object named `ws`. `ws` is used throughout the rest of the code in this tutorial."
      ]
    },
    {
      "cell_type": "code",
      "execution_count": 7,
      "metadata": {},
      "outputs": [
        {
          "name": "stdout",
          "output_type": "stream",
          "text": [
            "Performing interactive authentication. Please follow the instructions on the terminal.\n"
          ]
        },
        {
          "name": "stderr",
          "output_type": "stream",
          "text": [
            "To sign in, use a web browser to open the page https://microsoft.com/devicelogin and enter the code RRS23QZ5P to authenticate.\n",
            "The following tenants don't contain accessible subscriptions. Use 'az login --allow-no-subscriptions' to have tenant level access.\n",
            "72f988bf-86f1-41af-91ab-2d7cd011db47 'Microsoft'\n",
            "The following tenants require Multi-Factor Authentication (MFA). Use 'az login --tenant TENANT_ID' to explicitly login to a tenant.\n",
            "76641144-f9ac-402f-90c1-d7eb04361ba0 'Aelterman.Info B2C'\n"
          ]
        },
        {
          "name": "stdout",
          "output_type": "stream",
          "text": [
            "Interactive authentication successfully completed.\n"
          ]
        }
      ],
      "source": [
        "from azureml.core.workspace import Workspace\n",
        "ws = Workspace.from_config()"
      ]
    },
    {
      "cell_type": "markdown",
      "metadata": {},
      "source": [
        "## Split the data into train and test sets"
      ]
    },
    {
      "cell_type": "markdown",
      "metadata": {},
      "source": [
        "Split the data into training and test sets by using the `train_test_split` function in the `scikit-learn` library. This function segregates the data into the x (**features**) data set for model training and the y (**values to predict**) data set for testing. The `test_size` parameter determines the percentage of data to allocate to testing. The `random_state` parameter sets a seed to the random generator, so that your train-test splits are deterministic."
      ]
    },
    {
      "cell_type": "code",
      "execution_count": 8,
      "metadata": {},
      "outputs": [],
      "source": [
        "from sklearn.model_selection import train_test_split\n",
        "\n",
        "x_train, x_test = train_test_split(final_df, test_size=0.2, random_state=223)"
      ]
    },
    {
      "cell_type": "markdown",
      "metadata": {},
      "source": [
        "The purpose of this step is to have data points to test the finished model that haven't been used to train the model, in order to measure true accuracy. \n",
        "\n",
        "In other words, a well-trained model should be able to accurately make predictions from data it hasn't already seen. You now have data prepared for auto-training a machine learning model."
      ]
    },
    {
      "cell_type": "markdown",
      "metadata": {},
      "source": [
        "## Automatically train a model"
      ]
    },
    {
      "cell_type": "markdown",
      "metadata": {},
      "source": [
        "To automatically train a model, take the following steps:\n",
        "1. Define settings for the experiment run. Attach your training data to the configuration, and modify settings that control the training process.\n",
        "1. Submit the experiment for model tuning. After submitting the experiment, the process iterates through different machine learning algorithms and hyperparameter settings, adhering to your defined constraints. It chooses the best-fit model by optimizing an accuracy metric."
      ]
    },
    {
      "cell_type": "markdown",
      "metadata": {},
      "source": [
        "### Define training settings"
      ]
    },
    {
      "cell_type": "markdown",
      "metadata": {},
      "source": [
        "Define the experiment parameter and model settings for training. View the full list of [settings](https://docs.microsoft.com/azure/machine-learning/service/how-to-configure-auto-train). Submitting the experiment with these default settings will take approximately 20 minutes, but if you want a shorter run time, reduce the `experiment_timeout_hours` parameter.\n",
        "\n",
        "\n",
        "|Property| Value in this tutorial |Description|\n",
        "|----|----|---|\n",
        "|**iteration_timeout_minutes**|10|Time limit in minutes for each iteration. Increase this value for larger datasets that need more time for each iteration.|\n",
        "|**experiment_timeout_hours**|0.3|Maximum amount of time in hours that all iterations combined can take before the experiment terminates.|\n",
        "|**enable_early_stopping**|True|Flag to enable early termination if the score is not improving in the short term.|\n",
        "|**primary_metric**| spearman_correlation | Metric that you want to optimize. The best-fit model will be chosen based on this metric.|\n",
        "|**featurization**| auto | By using auto, the experiment can preprocess the input data (handling missing data, converting text to numeric, etc.)|\n",
        "|**verbosity**| logging.INFO | Controls the level of logging.|\n",
        "|**n_cross_validations**|5|Number of cross-validation splits to perform when validation data is not specified.|"
      ]
    },
    {
      "cell_type": "code",
      "execution_count": 9,
      "metadata": {},
      "outputs": [],
      "source": [
        "import logging\n",
        "\n",
        "automl_settings = {\n",
        "\t\"iterations\": 5,\n",
        "    \"iteration_timeout_minutes\": 10,\n",
        "    \"experiment_timeout_hours\": 0.3,\n",
        "    \"enable_early_stopping\": True,\n",
        "    \"primary_metric\": 'spearman_correlation',\n",
        "    \"featurization\": 'auto',\n",
        "    \"verbosity\": logging.INFO,\n",
        "    \"n_cross_validations\": 5\n",
        "}"
      ]
    },
    {
      "cell_type": "markdown",
      "metadata": {},
      "source": [
        "Use your defined training settings as a `**kwargs` parameter to an `AutoMLConfig` object. Additionally, specify your training data and the type of model, which is `regression` in this case."
      ]
    },
    {
      "cell_type": "code",
      "execution_count": 10,
      "metadata": {},
      "outputs": [],
      "source": [
        "from azureml.train.automl import AutoMLConfig\n",
        "\n",
        "automl_config = AutoMLConfig(task='regression',\n",
        "                             debug_log='automated_ml_errors.log',\n",
        "                             training_data=x_train,\n",
        "                             label_column_name=\"totalAmount\",\n",
        "                             **automl_settings)"
      ]
    },
    {
      "cell_type": "markdown",
      "metadata": {},
      "source": [
        "Automated machine learning pre-processing steps (feature normalization, handling missing data, converting text to numeric, etc.) become part of the underlying model. When using the model for predictions, the same pre-processing steps applied during training are applied to your input data automatically."
      ]
    },
    {
      "cell_type": "markdown",
      "metadata": {},
      "source": [
        "### Train the automatic regression model"
      ]
    },
    {
      "cell_type": "markdown",
      "metadata": {},
      "source": [
        "Create an experiment object in your workspace. An experiment acts as a container for your individual runs. Pass the defined `automl_config` object to the experiment, and set the output to `True` to view progress during the run. \n",
        "\n",
        "After starting the experiment, the output shown updates live as the experiment runs. For each iteration, you see the model type, the run duration, and the training accuracy. The field `BEST` tracks the best running training score based on your metric type."
      ]
    },
    {
      "cell_type": "code",
      "execution_count": 11,
      "metadata": {},
      "outputs": [
        {
          "ename": "ValidationException",
          "evalue": "ValidationException:\n\tMessage: Install the required versions of packages using the requirements file. Requirements file location: /opt/conda/lib/python3.9/site-packages/azureml/automl/core/validated_linux_requirements.txt. Alternatively, use remote target to avoid dependency management. \nRequired version/Installed version\nazure-mgmt-resource<=21.1.0/azure-mgmt-resource 21.2.0\nbcrypt<=4.0.0/bcrypt 4.0.1\ndistro<=1.7.0/distro 1.8.0\njmespath<=0.10.0/jmespath 1.0.1\nnumpy<=1.22.3/numpy 1.23.4\noauthlib<=3.2.1/oauthlib 3.2.2\npandas<=1.1.5/pandas 1.5.1\nportalocker<=2.5.1/portalocker 2.6.0\npytz<=2022.4/pytz 2022.5\ntypes-cryptography<=3.3.23/types-cryptography 3.3.23.1\n\tInnerException: None\n\tErrorResponse \n{\n    \"error\": {\n        \"code\": \"UserError\",\n        \"message\": \"Install the required versions of packages using the requirements file. Requirements file location: /opt/conda/lib/python3.9/site-packages/azureml/automl/core/validated_linux_requirements.txt. Alternatively, use remote target to avoid dependency management. \\nRequired version/Installed version\\nazure-mgmt-resource<=21.1.0/azure-mgmt-resource 21.2.0\\nbcrypt<=4.0.0/bcrypt 4.0.1\\ndistro<=1.7.0/distro 1.8.0\\njmespath<=0.10.0/jmespath 1.0.1\\nnumpy<=1.22.3/numpy 1.23.4\\noauthlib<=3.2.1/oauthlib 3.2.2\\npandas<=1.1.5/pandas 1.5.1\\nportalocker<=2.5.1/portalocker 2.6.0\\npytz<=2022.4/pytz 2022.5\\ntypes-cryptography<=3.3.23/types-cryptography 3.3.23.1\",\n        \"inner_error\": {\n            \"code\": \"NotSupported\",\n            \"inner_error\": {\n                \"code\": \"IncompatibleOrMissingDependency\"\n            }\n        },\n        \"reference_code\": \"65e7ad52-ad1f-4915-85ad-440d0a5e221f\"\n    }\n}",
          "output_type": "error",
          "traceback": [
            "\u001b[0;31m---------------------------------------------------------------------------\u001b[0m",
            "\u001b[0;31mValidationException\u001b[0m                       Traceback (most recent call last)",
            "\u001b[1;32m/workspaces/MachineLearningNotebooks/tutorials/regression-automl-nyc-taxi-data/regression-automated-ml.ipynb Cell 37\u001b[0m in \u001b[0;36m<cell line: 3>\u001b[0;34m()\u001b[0m\n\u001b[1;32m      <a href='vscode-notebook-cell://dev-container%2B633a5c55736572735c737661656c7465725c736f757263655c7265706f735c4d616368696e654c6561726e696e674e6f7465626f6f6b73/workspaces/MachineLearningNotebooks/tutorials/regression-automl-nyc-taxi-data/regression-automated-ml.ipynb#X51sdnNjb2RlLXJlbW90ZQ%3D%3D?line=0'>1</a>\u001b[0m \u001b[39mfrom\u001b[39;00m \u001b[39mazureml\u001b[39;00m\u001b[39m.\u001b[39;00m\u001b[39mcore\u001b[39;00m\u001b[39m.\u001b[39;00m\u001b[39mexperiment\u001b[39;00m \u001b[39mimport\u001b[39;00m Experiment\n\u001b[1;32m      <a href='vscode-notebook-cell://dev-container%2B633a5c55736572735c737661656c7465725c736f757263655c7265706f735c4d616368696e654c6561726e696e674e6f7465626f6f6b73/workspaces/MachineLearningNotebooks/tutorials/regression-automl-nyc-taxi-data/regression-automated-ml.ipynb#X51sdnNjb2RlLXJlbW90ZQ%3D%3D?line=1'>2</a>\u001b[0m experiment \u001b[39m=\u001b[39m Experiment(ws, \u001b[39m\"\u001b[39m\u001b[39mTutorial-NYCTaxi\u001b[39m\u001b[39m\"\u001b[39m)\n\u001b[0;32m----> <a href='vscode-notebook-cell://dev-container%2B633a5c55736572735c737661656c7465725c736f757263655c7265706f735c4d616368696e654c6561726e696e674e6f7465626f6f6b73/workspaces/MachineLearningNotebooks/tutorials/regression-automl-nyc-taxi-data/regression-automated-ml.ipynb#X51sdnNjb2RlLXJlbW90ZQ%3D%3D?line=2'>3</a>\u001b[0m local_run \u001b[39m=\u001b[39m experiment\u001b[39m.\u001b[39;49msubmit(automl_config, show_output\u001b[39m=\u001b[39;49m\u001b[39mTrue\u001b[39;49;00m)\n",
            "File \u001b[0;32m/opt/conda/lib/python3.9/site-packages/azureml/core/experiment.py:238\u001b[0m, in \u001b[0;36mExperiment.submit\u001b[0;34m(self, config, tags, **kwargs)\u001b[0m\n\u001b[1;32m    236\u001b[0m submit_func \u001b[39m=\u001b[39m get_experiment_submit(config)\n\u001b[1;32m    237\u001b[0m \u001b[39mwith\u001b[39;00m \u001b[39mself\u001b[39m\u001b[39m.\u001b[39m_log_context(\u001b[39m\"\u001b[39m\u001b[39msubmit config \u001b[39m\u001b[39m{}\u001b[39;00m\u001b[39m\"\u001b[39m\u001b[39m.\u001b[39mformat(config\u001b[39m.\u001b[39m\u001b[39m__class__\u001b[39m\u001b[39m.\u001b[39m\u001b[39m__name__\u001b[39m)):\n\u001b[0;32m--> 238\u001b[0m     run \u001b[39m=\u001b[39m submit_func(config, \u001b[39mself\u001b[39;49m\u001b[39m.\u001b[39;49mworkspace, \u001b[39mself\u001b[39;49m\u001b[39m.\u001b[39;49mname, \u001b[39m*\u001b[39;49m\u001b[39m*\u001b[39;49mkwargs)\n\u001b[1;32m    239\u001b[0m \u001b[39mif\u001b[39;00m tags \u001b[39mis\u001b[39;00m \u001b[39mnot\u001b[39;00m \u001b[39mNone\u001b[39;00m:\n\u001b[1;32m    240\u001b[0m     run\u001b[39m.\u001b[39mset_tags(tags)\n",
            "File \u001b[0;32m/opt/conda/lib/python3.9/site-packages/azureml/train/automl/automlconfig.py:101\u001b[0m, in \u001b[0;36m_automl_static_submit\u001b[0;34m(automl_config_object, workspace, experiment_name, **kwargs)\u001b[0m\n\u001b[1;32m     98\u001b[0m settings \u001b[39m=\u001b[39m _azureautomlsettings\u001b[39m.\u001b[39mAzureAutoMLSettings(experiment\u001b[39m=\u001b[39mexperiment, \u001b[39m*\u001b[39m\u001b[39m*\u001b[39msettings_dict)\n\u001b[1;32m    100\u001b[0m \u001b[39mwith\u001b[39;00m log_server\u001b[39m.\u001b[39mnew_log_context(parent_run_id\u001b[39m=\u001b[39mparent_run_id):\n\u001b[0;32m--> 101\u001b[0m     automl_run \u001b[39m=\u001b[39m _start_execution(\n\u001b[1;32m    102\u001b[0m         experiment,\n\u001b[1;32m    103\u001b[0m         settings,\n\u001b[1;32m    104\u001b[0m         fit_params,\n\u001b[1;32m    105\u001b[0m         run_config,\n\u001b[1;32m    106\u001b[0m         compute_target,\n\u001b[1;32m    107\u001b[0m         parent_run_id,\n\u001b[1;32m    108\u001b[0m         show_output)\n\u001b[1;32m    110\u001b[0m     automl_run\u001b[39m.\u001b[39madd_properties(global_tracking_info_registry\u001b[39m.\u001b[39mgather_all(settings\u001b[39m.\u001b[39mpath))\n\u001b[1;32m    112\u001b[0m     \u001b[39mreturn\u001b[39;00m automl_run\n",
            "File \u001b[0;32m/opt/conda/lib/python3.9/site-packages/azureml/train/automl/automlconfig.py:219\u001b[0m, in \u001b[0;36m_start_execution\u001b[0;34m(experiment, settings_obj, fit_params, run_config, compute_target, parent_run_id, show_output)\u001b[0m\n\u001b[1;32m    217\u001b[0m     _disable_mlflow(settings_obj)\n\u001b[1;32m    218\u001b[0m     \u001b[39mif\u001b[39;00m \u001b[39mnot\u001b[39;00m settings_obj\u001b[39m.\u001b[39m_ignore_package_version_incompatibilities:\n\u001b[0;32m--> 219\u001b[0m         package_utilities\u001b[39m.\u001b[39;49m_get_package_incompatibilities(\n\u001b[1;32m    220\u001b[0m             packages\u001b[39m=\u001b[39;49mpackage_utilities\u001b[39m.\u001b[39;49mAUTOML_PACKAGES,\n\u001b[1;32m    221\u001b[0m             ignored_dependencies\u001b[39m=\u001b[39;49mpackage_utilities\u001b[39m.\u001b[39;49m_PACKAGES_TO_IGNORE_VERSIONS\n\u001b[1;32m    222\u001b[0m         )\n\u001b[1;32m    223\u001b[0m     automl_run \u001b[39m=\u001b[39m _default_execution(experiment, settings_obj, fit_params, \u001b[39mTrue\u001b[39;00m, show_output, parent_run_id)\n\u001b[1;32m    224\u001b[0m \u001b[39melif\u001b[39;00m is_managed:\n",
            "File \u001b[0;32m/opt/conda/lib/python3.9/site-packages/azureml/automl/core/package_utilities.py:506\u001b[0m, in \u001b[0;36m_get_package_incompatibilities\u001b[0;34m(packages, ignored_dependencies, is_databricks_run)\u001b[0m\n\u001b[1;32m    497\u001b[0m         \u001b[39mraise\u001b[39;00m ValidationException\u001b[39m.\u001b[39m_with_error(\n\u001b[1;32m    498\u001b[0m             AzureMLError\u001b[39m.\u001b[39mcreate(\n\u001b[1;32m    499\u001b[0m                 IncompatibleOrMissingDependencyDatabricks,\n\u001b[0;32m   (...)\u001b[0m\n\u001b[1;32m    503\u001b[0m                 reference_code\u001b[39m=\u001b[39mReferenceCodes\u001b[39m.\u001b[39m_UNVERIFIED_PACKAGES_ADB,\n\u001b[1;32m    504\u001b[0m             ))\n\u001b[1;32m    505\u001b[0m     \u001b[39melse\u001b[39;00m:\n\u001b[0;32m--> 506\u001b[0m         \u001b[39mraise\u001b[39;00m ValidationException\u001b[39m.\u001b[39m_with_error(\n\u001b[1;32m    507\u001b[0m             AzureMLError\u001b[39m.\u001b[39mcreate(\n\u001b[1;32m    508\u001b[0m                 IncompatibleOrMissingDependency,\n\u001b[1;32m    509\u001b[0m                 target\u001b[39m=\u001b[39m\u001b[39m'\u001b[39m\u001b[39m,\u001b[39m\u001b[39m'\u001b[39m\u001b[39m.\u001b[39mjoin(incompatible_packages\u001b[39m.\u001b[39mkeys()),\n\u001b[1;32m    510\u001b[0m                 missing_packages_message_header\u001b[39m=\u001b[39m\u001b[39m'\u001b[39m\u001b[39mRequired version/Installed version\u001b[39m\u001b[39m'\u001b[39m,\n\u001b[1;32m    511\u001b[0m                 missing_packages_message\u001b[39m=\u001b[39m\u001b[39m'\u001b[39m\u001b[39m\\n\u001b[39;00m\u001b[39m'\u001b[39m\u001b[39m.\u001b[39mjoin(messages),\n\u001b[1;32m    512\u001b[0m                 reference_code\u001b[39m=\u001b[39mReferenceCodes\u001b[39m.\u001b[39m_UNVERIFIED_PACKAGES,\n\u001b[1;32m    513\u001b[0m                 validated_requirements_file_path\u001b[39m=\u001b[39mVALIDATED_REQ_FILE_PATH\n\u001b[1;32m    514\u001b[0m             ))\n\u001b[1;32m    516\u001b[0m logger\u001b[39m.\u001b[39minfo(\u001b[39m\"\u001b[39m\u001b[39mNo package incompatibilities found.\u001b[39m\u001b[39m\"\u001b[39m)\n",
            "\u001b[0;31mValidationException\u001b[0m: ValidationException:\n\tMessage: Install the required versions of packages using the requirements file. Requirements file location: /opt/conda/lib/python3.9/site-packages/azureml/automl/core/validated_linux_requirements.txt. Alternatively, use remote target to avoid dependency management. \nRequired version/Installed version\nazure-mgmt-resource<=21.1.0/azure-mgmt-resource 21.2.0\nbcrypt<=4.0.0/bcrypt 4.0.1\ndistro<=1.7.0/distro 1.8.0\njmespath<=0.10.0/jmespath 1.0.1\nnumpy<=1.22.3/numpy 1.23.4\noauthlib<=3.2.1/oauthlib 3.2.2\npandas<=1.1.5/pandas 1.5.1\nportalocker<=2.5.1/portalocker 2.6.0\npytz<=2022.4/pytz 2022.5\ntypes-cryptography<=3.3.23/types-cryptography 3.3.23.1\n\tInnerException: None\n\tErrorResponse \n{\n    \"error\": {\n        \"code\": \"UserError\",\n        \"message\": \"Install the required versions of packages using the requirements file. Requirements file location: /opt/conda/lib/python3.9/site-packages/azureml/automl/core/validated_linux_requirements.txt. Alternatively, use remote target to avoid dependency management. \\nRequired version/Installed version\\nazure-mgmt-resource<=21.1.0/azure-mgmt-resource 21.2.0\\nbcrypt<=4.0.0/bcrypt 4.0.1\\ndistro<=1.7.0/distro 1.8.0\\njmespath<=0.10.0/jmespath 1.0.1\\nnumpy<=1.22.3/numpy 1.23.4\\noauthlib<=3.2.1/oauthlib 3.2.2\\npandas<=1.1.5/pandas 1.5.1\\nportalocker<=2.5.1/portalocker 2.6.0\\npytz<=2022.4/pytz 2022.5\\ntypes-cryptography<=3.3.23/types-cryptography 3.3.23.1\",\n        \"inner_error\": {\n            \"code\": \"NotSupported\",\n            \"inner_error\": {\n                \"code\": \"IncompatibleOrMissingDependency\"\n            }\n        },\n        \"reference_code\": \"65e7ad52-ad1f-4915-85ad-440d0a5e221f\"\n    }\n}"
          ]
        }
      ],
      "source": [
        "from azureml.core.experiment import Experiment\n",
        "experiment = Experiment(ws, \"Tutorial-NYCTaxi\")\n",
        "local_run = experiment.submit(automl_config, show_output=True)"
      ]
    },
    {
      "cell_type": "markdown",
      "metadata": {},
      "source": [
        "## Explore the results"
      ]
    },
    {
      "cell_type": "markdown",
      "metadata": {},
      "source": [
        "Explore the results of automatic training with a [Jupyter widget](https://docs.microsoft.com/python/api/azureml-widgets/azureml.widgets?view=azure-ml-py). The widget allows you to see a graph and table of all individual run iterations, along with training accuracy metrics and metadata. Additionally, you can filter on different accuracy metrics than your primary metric with the dropdown selector."
      ]
    },
    {
      "cell_type": "code",
      "execution_count": null,
      "metadata": {},
      "outputs": [],
      "source": [
        "from azureml.widgets import RunDetails\n",
        "RunDetails(local_run).show()"
      ]
    },
    {
      "cell_type": "markdown",
      "metadata": {},
      "source": [
        "### Retrieve the best model"
      ]
    },
    {
      "cell_type": "markdown",
      "metadata": {},
      "source": [
        "Select the best model from your iterations. The `get_output` function returns the best run and the fitted model for the last fit invocation. By using the overloads on `get_output`, you can retrieve the best run and fitted model for any logged metric or a particular iteration."
      ]
    },
    {
      "cell_type": "code",
      "execution_count": null,
      "metadata": {},
      "outputs": [],
      "source": [
        "best_run, fitted_model = local_run.get_output()\n",
        "print(best_run)\n",
        "print(fitted_model)"
      ]
    },
    {
      "cell_type": "markdown",
      "metadata": {},
      "source": [
        "### Test the best model accuracy"
      ]
    },
    {
      "cell_type": "markdown",
      "metadata": {},
      "source": [
        "Use the best model to run predictions on the test data set to predict taxi fares. The function `predict` uses the best model and predicts the values of y, **trip cost**, from the `x_test` data set. Print the first 10 predicted cost values from `y_predict`."
      ]
    },
    {
      "cell_type": "code",
      "execution_count": null,
      "metadata": {},
      "outputs": [],
      "source": [
        "y_test = x_test.pop(\"totalAmount\")\n",
        "\n",
        "y_predict = fitted_model.predict(x_test)\n",
        "print(y_predict[:10])"
      ]
    },
    {
      "cell_type": "markdown",
      "metadata": {},
      "source": [
        "Calculate the `root mean squared error` of the results. Convert the `y_test` dataframe to a list to compare to the predicted values. The function `mean_squared_error` takes two arrays of values and calculates the average squared error between them. Taking the square root of the result gives an error in the same units as the y variable, **cost**. It indicates roughly how far the taxi fare predictions are from the actual fares."
      ]
    },
    {
      "cell_type": "code",
      "execution_count": null,
      "metadata": {},
      "outputs": [],
      "source": [
        "from sklearn.metrics import mean_squared_error\n",
        "from math import sqrt\n",
        "\n",
        "y_actual = y_test.values.flatten().tolist()\n",
        "rmse = sqrt(mean_squared_error(y_actual, y_predict))\n",
        "rmse"
      ]
    },
    {
      "cell_type": "markdown",
      "metadata": {},
      "source": [
        "Run the following code to calculate mean absolute percent error (MAPE) by using the full `y_actual` and `y_predict` data sets. This metric calculates an absolute difference between each predicted and actual value and sums all the differences. Then it expresses that sum as a percent of the total of the actual values."
      ]
    },
    {
      "cell_type": "code",
      "execution_count": null,
      "metadata": {},
      "outputs": [],
      "source": [
        "sum_actuals = sum_errors = 0\n",
        "\n",
        "for actual_val, predict_val in zip(y_actual, y_predict):\n",
        "    abs_error = actual_val - predict_val\n",
        "    if abs_error < 0:\n",
        "        abs_error = abs_error * -1\n",
        "\n",
        "    sum_errors = sum_errors + abs_error\n",
        "    sum_actuals = sum_actuals + actual_val\n",
        "\n",
        "mean_abs_percent_error = sum_errors / sum_actuals\n",
        "print(\"Model MAPE:\")\n",
        "print(mean_abs_percent_error)\n",
        "print()\n",
        "print(\"Model Accuracy:\")\n",
        "print(1 - mean_abs_percent_error)"
      ]
    },
    {
      "cell_type": "markdown",
      "metadata": {},
      "source": [
        "From the two prediction accuracy metrics, you see that the model is fairly good at predicting taxi fares from the data set's features, typically within +- $4.00, and approximately 15% error. \n",
        "\n",
        "The traditional machine learning model development process is highly resource-intensive, and requires significant domain knowledge and time investment to run and compare the results of dozens of models. Using automated machine learning is a great way to rapidly test many different models for your scenario."
      ]
    },
    {
      "cell_type": "markdown",
      "metadata": {},
      "source": [
        "## Clean up resources"
      ]
    },
    {
      "cell_type": "markdown",
      "metadata": {},
      "source": [
        "Do not complete this section if you plan on running other Azure Machine Learning service tutorials."
      ]
    },
    {
      "cell_type": "markdown",
      "metadata": {},
      "source": [
        "### Stop the notebook VM"
      ]
    },
    {
      "cell_type": "markdown",
      "metadata": {},
      "source": [
        "If you used a cloud notebook server, stop the VM when you are not using it to reduce cost."
      ]
    },
    {
      "cell_type": "markdown",
      "metadata": {},
      "source": [
        "1. In your workspace, select **Compute**.\n",
        "1. Select the **Notebook VMs** tab in the compute page.\n",
        "1. From the list, select the VM.\n",
        "1. Select **Stop**.\n",
        "1. When you're ready to use the server again, select **Start**."
      ]
    },
    {
      "cell_type": "markdown",
      "metadata": {},
      "source": [
        "### Delete everything"
      ]
    },
    {
      "cell_type": "markdown",
      "metadata": {},
      "source": [
        "If you don't plan to use the resources you created, delete them, so you don't incur any charges."
      ]
    },
    {
      "cell_type": "markdown",
      "metadata": {},
      "source": [
        "1. In the Azure portal, select **Resource groups** on the far left.\n",
        "1. From the list, select the resource group you created.\n",
        "1. Select **Delete resource group**.\n",
        "1. Enter the resource group name. Then select **Delete**.\n",
        "\n",
        "You can also keep the resource group but delete a single workspace. Display the workspace properties and select **Delete**."
      ]
    },
    {
      "cell_type": "markdown",
      "metadata": {},
      "source": [
        "## Next steps"
      ]
    },
    {
      "cell_type": "markdown",
      "metadata": {},
      "source": [
        "In this automated machine learning tutorial, you did the following tasks:\n",
        "\n",
        "> * Configured a workspace and prepared data for an experiment.\n",
        "> * Trained by using an automated regression model locally with custom parameters.\n",
        "> * Explored and reviewed training results.\n",
        "\n",
        "[Deploy your model](https://docs.microsoft.com/azure/machine-learning/service/tutorial-deploy-models-with-aml) with Azure Machine Learning service."
      ]
    },
    {
      "cell_type": "code",
      "execution_count": null,
      "metadata": {},
      "outputs": [],
      "source": []
    }
  ],
  "metadata": {
    "authors": [
      {
        "name": "jeffshep"
      }
    ],
    "kernelspec": {
      "display_name": "Python 3.9.12 ('base')",
      "language": "python",
      "name": "python3"
    },
    "language_info": {
      "codemirror_mode": {
        "name": "ipython",
        "version": 3
      },
      "file_extension": ".py",
      "mimetype": "text/x-python",
      "name": "python",
      "nbconvert_exporter": "python",
      "pygments_lexer": "ipython3",
      "version": "3.9.12"
    },
    "msauthor": "trbye",
    "network_required": false,
    "vscode": {
      "interpreter": {
        "hash": "d4d1e4263499bec80672ea0156c357c1ee493ec2b1c70f0acce89fc37c4a6abe"
      }
    }
  },
  "nbformat": 4,
  "nbformat_minor": 2
}
